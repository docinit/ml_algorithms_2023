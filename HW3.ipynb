{
 "cells": [
  {
   "cell_type": "code",
   "execution_count": 1,
   "id": "5e1fde03-9111-4d95-bb76-c0a10dbd5e06",
   "metadata": {
    "colab": {},
    "colab_type": "code",
    "id": "zhwkeWtb1O0w"
   },
   "outputs": [],
   "source": [
    "import numpy as np\n",
    "import matplotlib.pyplot as plt"
   ]
  },
  {
   "cell_type": "code",
   "execution_count": 2,
   "id": "4f3f34ee-4ac3-45c7-801e-10277248b398",
   "metadata": {
    "colab": {},
    "colab_type": "code",
    "id": "FeKFn2yb1To4"
   },
   "outputs": [],
   "source": [
    "X = np.array([ [   1,    1,  500,    1],\n",
    "               [   1,    1,  700,    1],\n",
    "               [   1,    2,  750,    2],\n",
    "               [   1,    5,  600,    1],\n",
    "               [   1,    3, 1450,    2],\n",
    "               [   1,    0,  800,    1],\n",
    "               [   1,    5, 1500,    3],\n",
    "               [   1,   10, 2000,    3],\n",
    "               [   1,    1,  450,    1],\n",
    "               [   1,    2, 1000,    2]], dtype=np.float64)\n",
    "\n",
    "y = np.array([0, 0, 1, 0, 1, 0, 1, 0, 1, 1], dtype=np.float64)"
   ]
  },
  {
   "cell_type": "code",
   "execution_count": 3,
   "id": "de8f774e-f590-4ba8-9734-fe3a25c2bb2f",
   "metadata": {
    "colab": {
     "base_uri": "https://localhost:8080/",
     "height": 155
    },
    "colab_type": "code",
    "id": "yXSj4nbxHsFd",
    "outputId": "8d102d54-94bf-4acc-d5b8-d60da152b953",
    "scrolled": true
   },
   "outputs": [
    {
     "data": {
      "text/plain": [
       "array([[1.00e+00, 1.00e+00, 5.00e+02, 1.00e+00],\n",
       "       [1.00e+00, 1.00e+00, 7.00e+02, 1.00e+00],\n",
       "       [1.00e+00, 2.00e+00, 7.50e+02, 2.00e+00],\n",
       "       [1.00e+00, 5.00e+00, 6.00e+02, 1.00e+00],\n",
       "       [1.00e+00, 3.00e+00, 1.45e+03, 2.00e+00],\n",
       "       [1.00e+00, 0.00e+00, 8.00e+02, 1.00e+00],\n",
       "       [1.00e+00, 5.00e+00, 1.50e+03, 3.00e+00],\n",
       "       [1.00e+00, 1.00e+01, 2.00e+03, 3.00e+00],\n",
       "       [1.00e+00, 1.00e+00, 4.50e+02, 1.00e+00],\n",
       "       [1.00e+00, 2.00e+00, 1.00e+03, 2.00e+00]])"
      ]
     },
     "execution_count": 3,
     "metadata": {},
     "output_type": "execute_result"
    }
   ],
   "source": [
    "X"
   ]
  },
  {
   "cell_type": "code",
   "execution_count": 4,
   "id": "4b832deb-de68-4347-8c76-185ad819eced",
   "metadata": {
    "colab": {
     "base_uri": "https://localhost:8080/",
     "height": 34
    },
    "colab_type": "code",
    "id": "QU0A16vZHugZ",
    "outputId": "71d74b95-77f4-41a7-e339-c9e7b2004e4b"
   },
   "outputs": [
    {
     "data": {
      "text/plain": [
       "array([0., 0., 1., 0., 1., 0., 1., 0., 1., 1.])"
      ]
     },
     "execution_count": 4,
     "metadata": {},
     "output_type": "execute_result"
    }
   ],
   "source": [
    "y"
   ]
  },
  {
   "cell_type": "code",
   "execution_count": 5,
   "id": "6242fe71-a270-4d9d-80ac-27d1ed446753",
   "metadata": {
    "colab": {},
    "colab_type": "code",
    "id": "M-aO1NTxOUfo"
   },
   "outputs": [],
   "source": [
    "def standard_scale(x):\n",
    "    res = (x - x.mean()) / x.std()\n",
    "    return res"
   ]
  },
  {
   "cell_type": "code",
   "execution_count": 6,
   "id": "13bf87ed-a91c-45b8-9ba9-44242d694da5",
   "metadata": {
    "colab": {},
    "colab_type": "code",
    "id": "D8EL0iGJOVpe"
   },
   "outputs": [],
   "source": [
    "X_st = X.copy()\n",
    "X_st[:, 2] = standard_scale(X[:, 2])"
   ]
  },
  {
   "cell_type": "code",
   "execution_count": 7,
   "id": "033b9679-0371-4d34-a80e-44d54bd950c8",
   "metadata": {
    "colab": {
     "base_uri": "https://localhost:8080/",
     "height": 155
    },
    "colab_type": "code",
    "id": "gviMxz7EOuI3",
    "outputId": "af9a2576-f4d7-41d7-e216-46e0a068cfad"
   },
   "outputs": [
    {
     "data": {
      "text/plain": [
       "array([[ 1.        ,  1.        , -0.97958969,  1.        ],\n",
       "       [ 1.        ,  1.        , -0.56713087,  1.        ],\n",
       "       [ 1.        ,  2.        , -0.46401617,  2.        ],\n",
       "       [ 1.        ,  5.        , -0.77336028,  1.        ],\n",
       "       [ 1.        ,  3.        ,  0.97958969,  2.        ],\n",
       "       [ 1.        ,  0.        , -0.36090146,  1.        ],\n",
       "       [ 1.        ,  5.        ,  1.08270439,  3.        ],\n",
       "       [ 1.        , 10.        ,  2.11385144,  3.        ],\n",
       "       [ 1.        ,  1.        , -1.08270439,  1.        ],\n",
       "       [ 1.        ,  2.        ,  0.05155735,  2.        ]])"
      ]
     },
     "execution_count": 7,
     "metadata": {},
     "output_type": "execute_result"
    }
   ],
   "source": [
    "X_st"
   ]
  },
  {
   "cell_type": "markdown",
   "id": "3491af6b-45ae-4757-8efe-bac947793c12",
   "metadata": {},
   "source": [
    "# 1 "
   ]
  },
  {
   "cell_type": "code",
   "execution_count": 8,
   "id": "3dcc5157-b18a-45ba-8cbe-7775fdb6be64",
   "metadata": {
    "colab": {},
    "colab_type": "code",
    "id": "qMR5pOA38dDw"
   },
   "outputs": [],
   "source": [
    "def calc_logloss(y, y_pred):\n",
    "    err = - np.mean([ y[k] * np.log(i) + (1.0 - y[k]) * np.log(1.0 - i)\n",
    "                    if 0<i<1 else 0\n",
    "                    for k,i in enumerate(y_pred)])\n",
    "    # err = - y * np.log(y_pred) + (1.0 - y) * np.log(1.0 - y_pred)\n",
    "    return err"
   ]
  },
  {
   "cell_type": "code",
   "execution_count": 9,
   "id": "138a29b3-eeae-4eea-b4bf-02d4635e6554",
   "metadata": {},
   "outputs": [
    {
     "data": {
      "text/plain": [
       "0.0"
      ]
     },
     "execution_count": 9,
     "metadata": {},
     "output_type": "execute_result"
    }
   ],
   "source": [
    "np.log(1)"
   ]
  },
  {
   "cell_type": "code",
   "execution_count": 10,
   "id": "b3b27530-0b64-4d7a-81de-b0ae5790feeb",
   "metadata": {
    "colab": {
     "base_uri": "https://localhost:8080/",
     "height": 34
    },
    "colab_type": "code",
    "id": "R6zfOHMrBvnX",
    "outputId": "46df0625-963f-4401-da30-b5b42bcf1be7"
   },
   "outputs": [
    {
     "data": {
      "text/plain": [
       "0.164252033486018"
      ]
     },
     "execution_count": 10,
     "metadata": {},
     "output_type": "execute_result"
    }
   ],
   "source": [
    "# Пример применения\n",
    "y1 = np.array([1, 0])\n",
    "y_pred1 = np.array([0.8, 0.1])\n",
    "calc_logloss(y1, y_pred1)"
   ]
  },
  {
   "cell_type": "code",
   "execution_count": 11,
   "id": "8917c60c-579e-47b0-a333-91f7a2786b46",
   "metadata": {},
   "outputs": [
    {
     "data": {
      "text/plain": [
       "0.11157177565710485"
      ]
     },
     "execution_count": 11,
     "metadata": {},
     "output_type": "execute_result"
    }
   ],
   "source": [
    "# Плохой пример применения\n",
    "y1 = np.array([1, 0])\n",
    "y_pred1 = np.array([1, 0.2])\n",
    "calc_logloss(y1, y_pred1)"
   ]
  },
  {
   "cell_type": "code",
   "execution_count": 12,
   "id": "578ee0a1-ab68-407c-af90-a4c0c7a4da65",
   "metadata": {
    "colab": {},
    "colab_type": "code",
    "id": "EEF9rWPNDnss"
   },
   "outputs": [],
   "source": [
    "def sigmoid(z):\n",
    "    res = 1 / (1 + np.exp(-z))\n",
    "    return res"
   ]
  },
  {
   "cell_type": "code",
   "execution_count": 13,
   "id": "c34d9a73-c689-4eab-a42f-39217ccbefa8",
   "metadata": {
    "colab": {},
    "colab_type": "code",
    "id": "_9tN8lBEEeXU"
   },
   "outputs": [],
   "source": [
    "z = np.linspace(-10, 10, 101)"
   ]
  },
  {
   "cell_type": "code",
   "execution_count": 14,
   "id": "16890c86-0f88-4420-bb78-e5b8cd4e1165",
   "metadata": {
    "colab": {},
    "colab_type": "code",
    "id": "nvIe3RpbEp4l"
   },
   "outputs": [],
   "source": [
    "probabilities = sigmoid(z)"
   ]
  },
  {
   "cell_type": "code",
   "execution_count": 15,
   "id": "4abe7f36-5c1f-4f8a-b4d3-d60e75c4dc3d",
   "metadata": {
    "colab": {
     "base_uri": "https://localhost:8080/",
     "height": 283
    },
    "colab_type": "code",
    "id": "jQsCfht0Et1V",
    "outputId": "0c11fcdd-1cf9-49db-aaa7-4fa520ff840a"
   },
   "outputs": [
    {
     "data": {
      "image/png": "[encoded data removed]",
      "text/plain": [
       "<Figure size 640x480 with 1 Axes>"
      ]
     },
     "metadata": {},
     "output_type": "display_data"
    }
   ],
   "source": [
    "plt.plot(z, probabilities)\n",
    "plt.show()"
   ]
  },
  {
   "cell_type": "markdown",
   "id": "bd7b97d3-46c4-48aa-b5f1-95d9e1960729",
   "metadata": {
    "colab": {},
    "colab_type": "code",
    "id": "e6TH-mkPItb6"
   },
   "source": [
    "Logistic Regression"
   ]
  },
  {
   "cell_type": "code",
   "execution_count": 16,
   "id": "f9786edb-4d44-4c69-a7b0-12910b0896fa",
   "metadata": {
    "colab": {
     "base_uri": "https://localhost:8080/",
     "height": 190
    },
    "colab_type": "code",
    "id": "oqX7loklBmYZ",
    "outputId": "f4849295-1f14-40d8-c8f2-d1b002e130c5"
   },
   "outputs": [
    {
     "name": "stdout",
     "output_type": "stream",
     "text": [
      "[ 0.44116524 -0.19381321  0.59213963  1.46748095] 1.0468863958026755\n"
     ]
    }
   ],
   "source": [
    "def eval_model(X, y, iterations, eta=1e-4):\n",
    "    np.random.seed(42)\n",
    "    W = np.random.randn(X.shape[1])\n",
    "    n = X.shape[0]\n",
    "    \n",
    "    for i in range(iterations):\n",
    "        z = np.dot(X, W)\n",
    "        y_pred = sigmoid(z)\n",
    "        err = calc_logloss(y, y_pred)\n",
    "        # print(y_pred,y)\n",
    "# ПОДБОР КОЭФФИЦИЕНТОВ С УЧЕТОМ ЛОГЛОССА\n",
    "        dQ = calc_logloss(y,y_pred)\n",
    "        W -= eta * dQ\n",
    "        # if i % (iterations / 10) == 0:\n",
    "            # print(i, W, err)\n",
    "            # print(logloss, W, sep='\\t')\n",
    "    return W,dQ\n",
    "\n",
    "# запуск функции, вывод коэффициента и логлосса\n",
    "W,logloss = eval_model(X_st, y, iterations=500, eta=1e-4)\n",
    "print(W,logloss)"
   ]
  },
  {
   "cell_type": "markdown",
   "id": "b508df80-674f-49af-b3ed-bab052722740",
   "metadata": {},
   "source": [
    "# 3"
   ]
  },
  {
   "cell_type": "code",
   "execution_count": 17,
   "id": "b24f9b5c-2399-43b6-a00e-7f95a796058c",
   "metadata": {},
   "outputs": [
    {
     "data": {
      "text/plain": [
       "array([0.75671979, 0.79883233, 0.93783246, 0.61813574, 0.96690575,\n",
       "       0.84487299, 0.98918186, 0.98458943, 0.74530387, 0.95342647])"
      ]
     },
     "execution_count": 17,
     "metadata": {},
     "output_type": "execute_result"
    }
   ],
   "source": [
    "def calc_pred_proba(X, W):\n",
    "    y_pred = sigmoid(np.dot(X, W))\n",
    "    return y_pred\n",
    "y_pred = calc_pred_proba(X_st, W)\n",
    "y_pred"
   ]
  },
  {
   "cell_type": "markdown",
   "id": "e29f3506-6338-49ca-82af-ffb0687b58a0",
   "metadata": {},
   "source": [
    "# 4 "
   ]
  },
  {
   "cell_type": "code",
   "execution_count": 18,
   "id": "4e035375-1919-4073-af5e-619895c8ac31",
   "metadata": {},
   "outputs": [
    {
     "name": "stdout",
     "output_type": "stream",
     "text": [
      "[1, 1, 1, 0, 1, 1, 1, 1, 1, 1]\n",
      "[0, 0, 1, 0, 1, 1, 1, 1, 0, 1]\n",
      "[0, 0, 1, 0, 1, 0, 1, 1, 0, 1]\n"
     ]
    },
    {
     "data": {
      "text/plain": [
       "array([0, 0, 1, 0, 1, 0, 1, 1, 0, 1])"
      ]
     },
     "execution_count": 18,
     "metadata": {},
     "output_type": "execute_result"
    }
   ],
   "source": [
    "def calc_pred(y,y_pred):\n",
    "    tpr = len(np.argwhere(y==1))\n",
    "    tpr_ = len(np.argwhere(y==1))\n",
    "    fpr = len(np.argwhere(y==0))\n",
    "    fpr_ = len(np.argwhere(y==0))\n",
    "    for step in np.linspace(0,1,11):\n",
    "        y_pred_ = [1 if i>step else 0 for i in y_pred]\n",
    "        y_array = np.array([y,y_pred_]).T\n",
    "        tpr_ = len(np.argwhere((y_array[:,0] == 1) & (y_array[:,1]==1)))\n",
    "        fpr_ = len(np.argwhere((y_array[:,0] == 0) & (y_array[:,1]==1)))\n",
    "        if fpr-tpr<tpr_-fpr_:\n",
    "            y_res = y_pred_.copy()\n",
    "            print(y_res)\n",
    "\n",
    "    return np.array(y_res)\n",
    "\n",
    "y_res = calc_pred(y,y_pred)\n",
    "y_res"
   ]
  },
  {
   "cell_type": "markdown",
   "id": "2b4b5553-de2b-43cb-94a7-a8d1e421fe56",
   "metadata": {},
   "source": [
    "# 5"
   ]
  },
  {
   "cell_type": "code",
   "execution_count": 19,
   "id": "880538c0-64dd-4277-b898-c741261037fd",
   "metadata": {},
   "outputs": [
    {
     "name": "stdout",
     "output_type": "stream",
     "text": [
      "\n",
      " accuracy = 0.8 \n",
      " recall для 1 класса = 0.8 \n",
      " recall для 0 класса = 0.8 \n",
      " precision для 1 класса = 0.8 \n",
      " precision для 0 класса = 0.8 \n",
      "\n"
     ]
    }
   ],
   "source": [
    "accuracy = sum(y==y_res)/len(y)\n",
    "accuracy\n",
    "\n",
    "recall_1 = sum([1 if i==1 and i==ii else 0 for i,ii in zip(y,y_res)])/sum(y==1)\n",
    "recall_0 = sum([1 if i==0 and i==ii else 0 for i,ii in zip(y,y_res)])/sum(y==0)\n",
    "precision_1 = sum([1 if ii==1 and i==ii else 0 for i,ii in zip(y,y_res)])/sum(y_res==1)\n",
    "precision_0 = sum([1 if ii==0 and i==ii else 0 for i,ii in zip(y,y_res)])/sum(y_res==0)\n",
    "print('\\n','accuracy =', accuracy,'\\n',\\\n",
    "      'recall для 1 класса =', recall_1,'\\n',\\\n",
    "      'recall для 0 класса =', recall_0,'\\n',\\\n",
    "      'precision для 1 класса =', precision_1,'\\n',\\\n",
    "      'precision для 0 класса =',precision_0,'\\n',\\\n",
    "      sep = ' ')"
   ]
  },
  {
   "cell_type": "code",
   "execution_count": 20,
   "id": "9c3e1605-6b81-4c79-b50c-6e5e571090e3",
   "metadata": {},
   "outputs": [
    {
     "name": "stdout",
     "output_type": "stream",
     "text": [
      "\n",
      " TP = 4 \n",
      " FN = 1 \n",
      " TN = 4 \n",
      " FP = 1 \n",
      " recall = 0.8 \n",
      " precision = 0.8\n"
     ]
    }
   ],
   "source": [
    "TP = sum([1 if i==1 and i==ii else 0 for i,ii in zip(y,y_res)])\n",
    "FN = sum([1 if i==1 and i!=ii else 0 for i,ii in zip(y,y_res)])\n",
    "TN = sum([1 if i==0 and i==ii else 0 for i,ii in zip(y,y_res)])\n",
    "FP = sum([1 if i==0 and i!=ii else 0 for i,ii in zip(y,y_res)])\n",
    "recall = TP / (TP + FN)\n",
    "precision = TP / (TP + FP)\n",
    "print('\\n','TP =', TP,'\\n',\\\n",
    "      'FN =', FN,'\\n',\\\n",
    "      'TN =', TN,'\\n',\\\n",
    "      'FP =',FP,'\\n',\\\n",
    "      'recall =',recall,'\\n',\\\n",
    "      'precision =',precision,\\\n",
    "      sep = ' ')"
   ]
  },
  {
   "cell_type": "code",
   "execution_count": null,
   "id": "0da3d810-38df-4189-831f-c8eb09edef52",
   "metadata": {},
   "outputs": [],
   "source": []
  }
 ],
 "metadata": {
  "kernelspec": {
   "display_name": "Python 3 (ipykernel)",
   "language": "python",
   "name": "python3"
  },
  "language_info": {
   "codemirror_mode": {
    "name": "ipython",
    "version": 3
   },
   "file_extension": ".py",
   "mimetype": "text/x-python",
   "name": "python",
   "nbconvert_exporter": "python",
   "pygments_lexer": "ipython3",
   "version": "3.10.4"
  }
 },
 "nbformat": 4,
 "nbformat_minor": 5
}
